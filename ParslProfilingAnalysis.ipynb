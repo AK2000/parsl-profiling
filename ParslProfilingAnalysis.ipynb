{
 "cells": [
  {
   "cell_type": "markdown",
   "metadata": {},
   "source": [
    "# Profiling Configurations of Parsl\n",
    "\n",
    "The purpose of this notebook is to explore the performance issues that are happening when scaling Parsl for Desc. It seems that parsl is limited to launching between 40 and 80 tasks per second. This causes issues since Parsl is unable to saturate more than a few nodes. In this notebook, we will first time different configurations of parsl to determine under which configurations we see the performance issues. The next section of the notebook will be dedicated to profiling the launching thread to determine if we are able to find bottlenecks where Parsl is taking longer than expected. At first the plan is to run this notebook locally. Perhaps if the issues are within some Parsl method, we will be able to find the results this way. Otherwise, we will run the same tests on NERSC under the assumption that some interatction between Parsl and the nersc file system or scheduler."
   ]
  },
  {
   "cell_type": "markdown",
   "metadata": {},
   "source": [
    "## 0. Setup"
   ]
  },
  {
   "cell_type": "code",
   "execution_count": 12,
   "metadata": {},
   "outputs": [],
   "source": [
    "import cProfile\n",
    "import itertools\n",
    "import multiprocessing\n",
    "import os\n",
    "import pstats\n",
    "from pstats import SortKey\n",
    "import time\n",
    "\n",
    "import pandas as pd\n",
    "\n",
    "import parsl"
   ]
  },
  {
   "cell_type": "code",
   "execution_count": 2,
   "metadata": {},
   "outputs": [],
   "source": [
    "@parsl.python_app\n",
    "def python_noop(name):\n",
    "    return f\"\"\"Finished job {name}\"\"\"\n",
    "\n",
    "@parsl.bash_app\n",
    "def bash_noop(name):\n",
    "    return f\"echo Finished job {name}\"\n",
    "\n",
    "@parsl.python_app\n",
    "def python_sleep(name, trun):\n",
    "    import time\n",
    "    print(f\"\"\"Running job {name} for {trun:.1f} seconds\"\"\")\n",
    "    time.sleep(trun)\n",
    "    return f\"\"\"Finished job {name}\"\"\"\n",
    "\n",
    "@parsl.bash_app\n",
    "def bash_sleep(name, trun):\n",
    "    scom = f\"time sleep {trun}; echo Finished job {name}\"\n",
    "    return scom"
   ]
  },
  {
   "cell_type": "code",
   "execution_count": 3,
   "metadata": {},
   "outputs": [],
   "source": [
    "monitoring_hub = parsl.monitoring.monitoring.MonitoringHub(\n",
    "    hub_address=parsl.addresses.address_by_hostname(),\n",
    "    hub_port=55055,\n",
    "    monitoring_debug=False,\n",
    ")"
   ]
  },
  {
   "cell_type": "code",
   "execution_count": 15,
   "metadata": {},
   "outputs": [],
   "source": [
    "def setup(sexec=\"thread\", workers=1, nnodes=1, with_monitoring=False):\n",
    "    if sexec == \"thread\":\n",
    "        executor = parsl.ThreadPoolExecutor(\n",
    "            max_threads=workers\n",
    "        )\n",
    "    elif sexec == \"htex\":\n",
    "        executor = parsl.HighThroughputExecutor(\n",
    "            label=\"local_htex\",\n",
    "            cores_per_worker=1,\n",
    "            max_workers=workers,\n",
    "            address=parsl.addresses.address_by_hostname(),\n",
    "            provider=parsl.providers.LocalProvider(\n",
    "                worker_init=\"source activate parsl-monitoring\"\n",
    "            )\n",
    "        )\n",
    "    elif sexec == \"work_queue\":\n",
    "        executor = parsl.WorkQueueExecutor(\n",
    "            worker_options=f\"--cores={workers}\",\n",
    "            provider=parsl.providers.LocalProvider(\n",
    "                worker_init=\"source activate parsl-monitoring\"\n",
    "            )\n",
    "        )\n",
    "    else:\n",
    "        raise Exception(f\"Invalid executor specifier: {sexec}\")\n",
    "\n",
    "    monitoring=None\n",
    "    if with_monitoring == True:\n",
    "        monitoring = monitoring_hub\n",
    "\n",
    "    config = parsl.config.Config(\n",
    "        executors = [executor],\n",
    "        monitoring=parsl.monitoring.monitoring.MonitoringHub(\n",
    "            hub_address=parsl.addresses.address_by_hostname(),\n",
    "            hub_port=55055,\n",
    "            monitoring_debug=False,\n",
    "        ),\n",
    "        strategy=None,\n",
    "    )\n",
    "\n",
    "    try:\n",
    "        dfk = parsl.dfk()\n",
    "    except Exception as e:\n",
    "        print(e)\n",
    "        dfk = None\n",
    "\n",
    "    if dfk is not None:\n",
    "        if dfk.monitoring is not None:\n",
    "            dfk.monitoring.close()\n",
    "        parsl.clear()\n",
    "\n",
    "    parsl.load(config)\n",
    "    return\n",
    "\n",
    "def cleanup():\n",
    "    for child in multiprocessing.active_children():\n",
    "        print('Terminating', child)\n",
    "        child.terminate()"
   ]
  },
  {
   "cell_type": "code",
   "execution_count": 5,
   "metadata": {},
   "outputs": [],
   "source": [
    "def run_test(test_name, jobtype=\"python\", trun=0, njob=1):\n",
    "    print(f\"Running test: {test_name}\")\n",
    "\n",
    "    if trun == 0:\n",
    "        task = lambda name, trun: eval(f\"{jobtype}_noop(name)\")\n",
    "    else:\n",
    "        task = lambda name, trun: eval(f\"{jobtype}_sleep(name, trun)\")\n",
    "\n",
    "    jobs = []\n",
    "    for ijob in range(njob):\n",
    "        jobs.append(task(f\"job_{ijob}\", trun))\n",
    "\n",
    "    results = []\n",
    "    for ijob, job in enumerate(jobs):\n",
    "        try:\n",
    "            r = job.result()\n",
    "        except Exception as e:\n",
    "            print(f\"Job {ijob} raised an exception: \", e)\n",
    "            r = None\n",
    "        results.append(r)"
   ]
  },
  {
   "cell_type": "markdown",
   "metadata": {},
   "source": [
    "## 1. Timing\n",
    "\n",
    "Construct the scaling information for many different configurations of executing Parsl"
   ]
  },
  {
   "cell_type": "code",
   "execution_count": 6,
   "metadata": {},
   "outputs": [],
   "source": [
    "types = [\"python\", \"bash\"]\n",
    "executors = [\"thread\", \"htex\", \"work_queue\"]\n",
    "times = [0]\n",
    "ntasks = [1, 100, 200, 300, 400, 500]\n",
    "workers = [1, 32]\n",
    "num_nodes = [1]\n",
    "monitoring = [False, True]"
   ]
  },
  {
   "cell_type": "code",
   "execution_count": 6,
   "metadata": {},
   "outputs": [],
   "source": [
    "types = [\"python\"]\n",
    "executors = [\"htex\", \"work_queue\"]\n",
    "times = [0]\n",
    "ntasks = [100]\n",
    "workers = [32]\n",
    "num_nodes = [1]\n",
    "monitoring = [True, False]"
   ]
  },
  {
   "cell_type": "code",
   "execution_count": 7,
   "metadata": {},
   "outputs": [
    {
     "name": "stdout",
     "output_type": "stream",
     "text": [
      "Must first load config\n",
      "run_test(\"python_n=100_t=0_e=htex_w=32_nodes=1_m=True\", \"python\", 0, 100)\n",
      "Running test: python_n=100_t=0_e=htex_w=32_nodes=1_m=True\n",
      "Running test: python_n=100_t=0_e=htex_w=32_nodes=1_m=True\n",
      "Running test: python_n=100_t=0_e=htex_w=32_nodes=1_m=True\n",
      "Running test: python_n=100_t=0_e=htex_w=32_nodes=1_m=True\n",
      "Running test: python_n=100_t=0_e=htex_w=32_nodes=1_m=True\n",
      "Running test: python_n=100_t=0_e=htex_w=32_nodes=1_m=True\n",
      "Running test: python_n=100_t=0_e=htex_w=32_nodes=1_m=True\n",
      "Running test: python_n=100_t=0_e=htex_w=32_nodes=1_m=True\n",
      "Running test: python_n=100_t=0_e=htex_w=32_nodes=1_m=True\n",
      "Running test: python_n=100_t=0_e=htex_w=32_nodes=1_m=True\n",
      "run_test(\"python_n=100_t=0_e=htex_w=32_nodes=1_m=False\", \"python\", 0, 100)\n",
      "Running test: python_n=100_t=0_e=htex_w=32_nodes=1_m=False\n",
      "Running test: python_n=100_t=0_e=htex_w=32_nodes=1_m=False\n",
      "Running test: python_n=100_t=0_e=htex_w=32_nodes=1_m=False\n",
      "Running test: python_n=100_t=0_e=htex_w=32_nodes=1_m=False\n",
      "Running test: python_n=100_t=0_e=htex_w=32_nodes=1_m=False\n",
      "Running test: python_n=100_t=0_e=htex_w=32_nodes=1_m=False\n",
      "Running test: python_n=100_t=0_e=htex_w=32_nodes=1_m=False\n",
      "Running test: python_n=100_t=0_e=htex_w=32_nodes=1_m=False\n",
      "Running test: python_n=100_t=0_e=htex_w=32_nodes=1_m=False\n",
      "Running test: python_n=100_t=0_e=htex_w=32_nodes=1_m=False\n",
      "run_test(\"python_n=100_t=0_e=work_queue_w=32_nodes=1_m=True\", \"python\", 0, 100)\n",
      "Running test: python_n=100_t=0_e=work_queue_w=32_nodes=1_m=True\n",
      "Running test: python_n=100_t=0_e=work_queue_w=32_nodes=1_m=True\n",
      "Running test: python_n=100_t=0_e=work_queue_w=32_nodes=1_m=True\n",
      "Running test: python_n=100_t=0_e=work_queue_w=32_nodes=1_m=True\n",
      "Running test: python_n=100_t=0_e=work_queue_w=32_nodes=1_m=True\n",
      "Running test: python_n=100_t=0_e=work_queue_w=32_nodes=1_m=True\n",
      "Running test: python_n=100_t=0_e=work_queue_w=32_nodes=1_m=True\n",
      "Running test: python_n=100_t=0_e=work_queue_w=32_nodes=1_m=True\n",
      "Running test: python_n=100_t=0_e=work_queue_w=32_nodes=1_m=True\n",
      "Running test: python_n=100_t=0_e=work_queue_w=32_nodes=1_m=True\n",
      "run_test(\"python_n=100_t=0_e=work_queue_w=32_nodes=1_m=False\", \"python\", 0, 100)\n",
      "Running test: python_n=100_t=0_e=work_queue_w=32_nodes=1_m=False\n",
      "Running test: python_n=100_t=0_e=work_queue_w=32_nodes=1_m=False\n",
      "Running test: python_n=100_t=0_e=work_queue_w=32_nodes=1_m=False\n",
      "Running test: python_n=100_t=0_e=work_queue_w=32_nodes=1_m=False\n",
      "Running test: python_n=100_t=0_e=work_queue_w=32_nodes=1_m=False\n",
      "Running test: python_n=100_t=0_e=work_queue_w=32_nodes=1_m=False\n",
      "Running test: python_n=100_t=0_e=work_queue_w=32_nodes=1_m=False\n",
      "Running test: python_n=100_t=0_e=work_queue_w=32_nodes=1_m=False\n",
      "Running test: python_n=100_t=0_e=work_queue_w=32_nodes=1_m=False\n",
      "Running test: python_n=100_t=0_e=work_queue_w=32_nodes=1_m=False\n"
     ]
    },
    {
     "data": {
      "text/html": [
       "<div>\n",
       "<style scoped>\n",
       "    .dataframe tbody tr th:only-of-type {\n",
       "        vertical-align: middle;\n",
       "    }\n",
       "\n",
       "    .dataframe tbody tr th {\n",
       "        vertical-align: top;\n",
       "    }\n",
       "\n",
       "    .dataframe thead th {\n",
       "        text-align: right;\n",
       "    }\n",
       "</style>\n",
       "<table border=\"1\" class=\"dataframe\">\n",
       "  <thead>\n",
       "    <tr style=\"text-align: right;\">\n",
       "      <th></th>\n",
       "      <th>type</th>\n",
       "      <th>executor</th>\n",
       "      <th>time_per_task</th>\n",
       "      <th>ntasks</th>\n",
       "      <th>workers</th>\n",
       "      <th>nodes</th>\n",
       "      <th>monitoring</th>\n",
       "      <th>total time</th>\n",
       "    </tr>\n",
       "  </thead>\n",
       "  <tbody>\n",
       "    <tr>\n",
       "      <th>0</th>\n",
       "      <td>python</td>\n",
       "      <td>htex</td>\n",
       "      <td>0</td>\n",
       "      <td>100</td>\n",
       "      <td>32</td>\n",
       "      <td>1</td>\n",
       "      <td>True</td>\n",
       "      <td>2.934003</td>\n",
       "    </tr>\n",
       "    <tr>\n",
       "      <th>1</th>\n",
       "      <td>python</td>\n",
       "      <td>htex</td>\n",
       "      <td>0</td>\n",
       "      <td>100</td>\n",
       "      <td>32</td>\n",
       "      <td>1</td>\n",
       "      <td>False</td>\n",
       "      <td>3.709631</td>\n",
       "    </tr>\n",
       "    <tr>\n",
       "      <th>2</th>\n",
       "      <td>python</td>\n",
       "      <td>work_queue</td>\n",
       "      <td>0</td>\n",
       "      <td>100</td>\n",
       "      <td>32</td>\n",
       "      <td>1</td>\n",
       "      <td>True</td>\n",
       "      <td>186.618081</td>\n",
       "    </tr>\n",
       "    <tr>\n",
       "      <th>3</th>\n",
       "      <td>python</td>\n",
       "      <td>work_queue</td>\n",
       "      <td>0</td>\n",
       "      <td>100</td>\n",
       "      <td>32</td>\n",
       "      <td>1</td>\n",
       "      <td>False</td>\n",
       "      <td>176.128398</td>\n",
       "    </tr>\n",
       "  </tbody>\n",
       "</table>\n",
       "</div>"
      ],
      "text/plain": [
       "     type    executor  time_per_task  ntasks  workers  nodes  monitoring  \\\n",
       "0  python        htex              0     100       32      1        True   \n",
       "1  python        htex              0     100       32      1       False   \n",
       "2  python  work_queue              0     100       32      1        True   \n",
       "3  python  work_queue              0     100       32      1       False   \n",
       "\n",
       "   total time  \n",
       "0    2.934003  \n",
       "1    3.709631  \n",
       "2  186.618081  \n",
       "3  176.128398  "
      ]
     },
     "execution_count": 7,
     "metadata": {},
     "output_type": "execute_result"
    },
    {
     "name": "stderr",
     "output_type": "stream",
     "text": [
      "Exception in thread WorkQueue-collector-thread:\n",
      "Traceback (most recent call last):\n",
      "  File \"/home/alokvk2/.conda/envs/parsl-monitoring/lib/python3.10/threading.py\", line 1016, in _bootstrap_inner\n",
      "    self.run()\n",
      "  File \"/home/alokvk2/.conda/envs/parsl-monitoring/lib/python3.10/threading.py\", line 953, in run\n",
      "    self._target(*self._args, **self._kwargs)\n",
      "  File \"/home/alokvk2/src/parsl/parsl/process_loggers.py\", line 27, in wrapped\n",
      "    r = func(*args, **kwargs)\n",
      "  File \"/home/alokvk2/src/parsl/parsl/executors/workqueue/executor.py\", line 699, in _collect_work_queue_results\n",
      "    raise ExecutorError(self, \"Workqueue Submit Process is not alive\")\n",
      "parsl.executors.errors.ExecutorError: Executor WorkQueueExecutor failed due to: Workqueue Submit Process is not alive\n"
     ]
    }
   ],
   "source": [
    "test_results = []\n",
    "for (task_type, e, t, n, w, nodes, m) in itertools.product(types, executors, times, ntasks, workers, num_nodes, monitoring):\n",
    "    stmt = f\"\"\"\"python test_parsl.py -y {task_type} -n {m} -t {t} -e {e} -w {w} --nodes {nodes}\"\"\"\n",
    "    if monitoring:\n",
    "        stmt += \" -m\"\n",
    "    \n",
    "    t0 = time.time()\n",
    "    os.system(stmt)\n",
    "    t1 = time.time()\n",
    "    elapsed_time = t1 - t0\n",
    "    \n",
    "    test_results.append((task_type, e, t, n, w, nodes, m, elapsed_time))\n",
    "    \n",
    "    \n",
    "df = pd.DataFrame.from_records(test_results, columns=[\"type\", \"executor\", \"time_per_task\", \"ntasks\", \"workers\", \"nodes\", \"monitoring\", \"total time\"])\n",
    "df.head()"
   ]
  },
  {
   "cell_type": "markdown",
   "metadata": {},
   "source": [
    "## 2. Profiling\n",
    "\n",
    "In this section we will start trying to profile the parsl code to figure out which bits contribute the most to the execution time. This is not going to be perfect because parsl is a multi-process application. However, it may be sufficient to profile the launching thread because it seems that in some cases the launching of the process becomes the bottleneck."
   ]
  },
  {
   "cell_type": "code",
   "execution_count": 17,
   "metadata": {},
   "outputs": [
    {
     "name": "stdout",
     "output_type": "stream",
     "text": [
      "---------------------------------------------------------------------------------------\n",
      "Profiling statistics for test: 0. python_n=100_t=0_e=htex_w=32_nodes=1_m=True\n",
      "Running test: python_n=100_t=0_e=htex_w=32_nodes=1_m=True\n",
      " \n",
      "*** Profile stats marshalled to file '/tmp/user/23030/tmpevkavpmz'.\n",
      "Embedding SnakeViz in this document...\n"
     ]
    },
    {
     "data": {
      "text/html": [
       "\n",
       "<iframe id='snakeviz-0507d4d0-32e1-11ed-8ef7-f01fafd68ae4' frameborder=0 seamless width='100%' height='1000'></iframe>\n",
       "<script>document.getElementById(\"snakeviz-0507d4d0-32e1-11ed-8ef7-f01fafd68ae4\").setAttribute(\"src\", \"http://\" + document.location.hostname + \":8080/snakeviz/%2Ftmp%2Fuser%2F23030%2Ftmpevkavpmz\")</script>\n"
      ],
      "text/plain": [
       "<IPython.core.display.HTML object>"
      ]
     },
     "metadata": {},
     "output_type": "display_data"
    },
    {
     "name": "stdout",
     "output_type": "stream",
     "text": [
      "---------------------------------------------------------------------------------------\n",
      "Terminating <ForkProcess name='Monitoring-DBM-Process' pid=2749719 parent=2745012 started daemon>\n",
      "Terminating <ForkProcess name='Monitoring-Router-Process' pid=2749715 parent=2745012 started daemon>\n",
      "Terminating <ForkProcess name='HTEX-Interchange' pid=2749738 parent=2745012 started daemon>\n",
      "Terminating <Process name='Monitoring-Filesystem-Process' pid=2749720 parent=2745012 started daemon>\n",
      "---------------------------------------------------------------------------------------\n",
      "Profiling statistics for test: 1. python_n=100_t=0_e=htex_w=32_nodes=1_m=False\n",
      "Running test: python_n=100_t=0_e=htex_w=32_nodes=1_m=False\n",
      " \n",
      "*** Profile stats marshalled to file '/tmp/user/23030/tmprubtgyee'.\n",
      "Embedding SnakeViz in this document...\n"
     ]
    },
    {
     "data": {
      "text/html": [
       "\n",
       "<iframe id='snakeviz-0af2fdb6-32e1-11ed-8ef7-f01fafd68ae4' frameborder=0 seamless width='100%' height='1000'></iframe>\n",
       "<script>document.getElementById(\"snakeviz-0af2fdb6-32e1-11ed-8ef7-f01fafd68ae4\").setAttribute(\"src\", \"http://\" + document.location.hostname + \":8080/snakeviz/%2Ftmp%2Fuser%2F23030%2Ftmprubtgyee\")</script>\n"
      ],
      "text/plain": [
       "<IPython.core.display.HTML object>"
      ]
     },
     "metadata": {},
     "output_type": "display_data"
    },
    {
     "name": "stdout",
     "output_type": "stream",
     "text": [
      "---------------------------------------------------------------------------------------\n",
      "Terminating <Process name='Monitoring-Filesystem-Process' pid=2750320 parent=2745012 started daemon>\n",
      "Terminating <ForkProcess name='Monitoring-Router-Process' pid=2750315 parent=2745012 started daemon>\n",
      "Terminating <ForkProcess name='Monitoring-DBM-Process' pid=2750316 parent=2745012 started daemon>\n",
      "Terminating <ForkProcess name='HTEX-Interchange' pid=2750338 parent=2745012 started daemon>\n",
      "---------------------------------------------------------------------------------------\n",
      "Profiling statistics for test: 2. python_n=100_t=0_e=work_queue_w=32_nodes=1_m=True\n",
      "Running test: python_n=100_t=0_e=work_queue_w=32_nodes=1_m=True\n",
      " \n",
      "*** Profile stats marshalled to file '/tmp/user/23030/tmp47gch80z'.\n",
      "Embedding SnakeViz in this document...\n"
     ]
    },
    {
     "data": {
      "text/html": [
       "\n",
       "<iframe id='snakeviz-7715a8cc-32e1-11ed-8ef7-f01fafd68ae4' frameborder=0 seamless width='100%' height='1000'></iframe>\n",
       "<script>document.getElementById(\"snakeviz-7715a8cc-32e1-11ed-8ef7-f01fafd68ae4\").setAttribute(\"src\", \"http://\" + document.location.hostname + \":8081/snakeviz/%2Ftmp%2Fuser%2F23030%2Ftmp47gch80z\")</script>\n"
      ],
      "text/plain": [
       "<IPython.core.display.HTML object>"
      ]
     },
     "metadata": {},
     "output_type": "display_data"
    },
    {
     "name": "stdout",
     "output_type": "stream",
     "text": [
      "---------------------------------------------------------------------------------------\n",
      "Terminating <ForkProcess name='Monitoring-Router-Process' pid=2750913 parent=2745012 started daemon>\n",
      "Terminating <ForkProcess name='Monitoring-DBM-Process' pid=2750914 parent=2745012 started daemon>\n",
      "Terminating <Process name='WorkQueue-Submit-Process' pid=2750929 parent=2745012 started>\n",
      "Terminating <Process name='Monitoring-Filesystem-Process' pid=2750918 parent=2745012 started daemon>\n"
     ]
    },
    {
     "name": "stderr",
     "output_type": "stream",
     "text": [
      "Exception in thread WorkQueue-collector-thread:\n",
      "Traceback (most recent call last):\n",
      "  File \"/home/alokvk2/.conda/envs/parsl-monitoring/lib/python3.10/threading.py\", line 1016, in _bootstrap_inner\n",
      "    self.run()\n",
      "  File \"/home/alokvk2/.conda/envs/parsl-monitoring/lib/python3.10/threading.py\", line 953, in run\n",
      "    self._target(*self._args, **self._kwargs)\n",
      "  File \"/home/alokvk2/src/parsl/parsl/process_loggers.py\", line 27, in wrapped\n",
      "    r = func(*args, **kwargs)\n",
      "  File \"/home/alokvk2/src/parsl/parsl/executors/workqueue/executor.py\", line 699, in _collect_work_queue_results\n",
      "    raise ExecutorError(self, \"Workqueue Submit Process is not alive\")\n",
      "parsl.executors.errors.ExecutorError: Executor WorkQueueExecutor failed due to: Workqueue Submit Process is not alive\n"
     ]
    },
    {
     "name": "stdout",
     "output_type": "stream",
     "text": [
      "---------------------------------------------------------------------------------------\n",
      "Profiling statistics for test: 3. python_n=100_t=0_e=work_queue_w=32_nodes=1_m=False\n",
      "Running test: python_n=100_t=0_e=work_queue_w=32_nodes=1_m=False\n",
      " \n",
      "*** Profile stats marshalled to file '/tmp/user/23030/tmp7ytcpzuy'.\n",
      "Embedding SnakeViz in this document...\n"
     ]
    },
    {
     "data": {
      "text/html": [
       "\n",
       "<iframe id='snakeviz-b0dfe7ac-32e1-11ed-8ef7-f01fafd68ae4' frameborder=0 seamless width='100%' height='1000'></iframe>\n",
       "<script>document.getElementById(\"snakeviz-b0dfe7ac-32e1-11ed-8ef7-f01fafd68ae4\").setAttribute(\"src\", \"http://\" + document.location.hostname + \":8081/snakeviz/%2Ftmp%2Fuser%2F23030%2Ftmp7ytcpzuy\")</script>\n"
      ],
      "text/plain": [
       "<IPython.core.display.HTML object>"
      ]
     },
     "metadata": {},
     "output_type": "display_data"
    },
    {
     "name": "stdout",
     "output_type": "stream",
     "text": [
      "---------------------------------------------------------------------------------------\n",
      "Terminating <Process name='Monitoring-Filesystem-Process' pid=2751517 parent=2745012 started daemon>\n",
      "Terminating <ForkProcess name='Monitoring-DBM-Process' pid=2751513 parent=2745012 started daemon>\n",
      "Terminating <ForkProcess name='Monitoring-Router-Process' pid=2751512 parent=2745012 started daemon>\n",
      "Terminating <Process name='WorkQueue-Submit-Process' pid=2751524 parent=2745012 started>\n"
     ]
    },
    {
     "name": "stderr",
     "output_type": "stream",
     "text": [
      "Exception in thread WorkQueue-collector-thread:\n",
      "Traceback (most recent call last):\n",
      "  File \"/home/alokvk2/.conda/envs/parsl-monitoring/lib/python3.10/threading.py\", line 1016, in _bootstrap_inner\n",
      "    self.run()\n",
      "  File \"/home/alokvk2/.conda/envs/parsl-monitoring/lib/python3.10/threading.py\", line 953, in run\n",
      "    self._target(*self._args, **self._kwargs)\n",
      "  File \"/home/alokvk2/src/parsl/parsl/process_loggers.py\", line 27, in wrapped\n",
      "    r = func(*args, **kwargs)\n",
      "  File \"/home/alokvk2/src/parsl/parsl/executors/workqueue/executor.py\", line 699, in _collect_work_queue_results\n",
      "    raise ExecutorError(self, \"Workqueue Submit Process is not alive\")\n",
      "parsl.executors.errors.ExecutorError: Executor WorkQueueExecutor failed due to: Workqueue Submit Process is not alive\n"
     ]
    }
   ],
   "source": [
    "profiling_stats = []\n",
    "pr = cProfile.Profile()\n",
    "for test_no, (task_type, e, t, n, w, nodes, m) in enumerate(itertools.product(types, executors, times, ntasks, workers, num_nodes, monitoring)):\n",
    "    test_name = f\"{task_type}_n={n}_t={t}_e={e}_w={w}_nodes={nodes}_m={m}\"\n",
    "    stmt = f\"\"\"\"test_parsl.py -y {task_type} -n {m} -t {t} -e {e} -w {w} --nodes {nodes}\"\"\"\n",
    "    if monitoring:\n",
    "        stmt += \" -m\"\n",
    "    \n",
    "    t0 = time.time()\n",
    "    os.system(f\"python -m cProfile -o {test_name}.prof {stmt}\")\n",
    "    t1 = time.time()\n",
    "    elapsed_time = t1 - t0\n",
    "    \n",
    "    print(f\"Finished test {test_no} in {elapsed_time} seconds\")"
   ]
  },
  {
   "cell_type": "code",
   "execution_count": null,
   "metadata": {},
   "outputs": [],
   "source": []
  }
 ],
 "metadata": {
  "kernelspec": {
   "display_name": "parsl_dev",
   "language": "python",
   "name": "parsl_dev"
  },
  "language_info": {
   "codemirror_mode": {
    "name": "ipython",
    "version": 3
   },
   "file_extension": ".py",
   "mimetype": "text/x-python",
   "name": "python",
   "nbconvert_exporter": "python",
   "pygments_lexer": "ipython3",
   "version": "3.8.13"
  }
 },
 "nbformat": 4,
 "nbformat_minor": 4
}
